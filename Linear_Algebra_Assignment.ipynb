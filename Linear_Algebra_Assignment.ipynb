{
  "nbformat": 4,
  "nbformat_minor": 0,
  "metadata": {
    "colab": {
      "name": "Linear Algebra Assignment.ipynb",
      "version": "0.3.2",
      "provenance": [],
      "collapsed_sections": [],
      "include_colab_link": true
    },
    "kernelspec": {
      "name": "python3",
      "display_name": "Python 3"
    },
    "accelerator": "GPU"
  },
  "cells": [
    {
      "cell_type": "markdown",
      "metadata": {
        "id": "view-in-github",
        "colab_type": "text"
      },
      "source": [
        "<a href=\"https://colab.research.google.com/github/chefdarek/DS-Unit-1-Sprint-4-Linear-Algebra/blob/master/Linear_Algebra_Assignment.ipynb\" target=\"_parent\"><img src=\"https://colab.research.google.com/assets/colab-badge.svg\" alt=\"Open In Colab\"/></a>"
      ]
    },
    {
      "cell_type": "markdown",
      "metadata": {
        "id": "yXA3GwWhY9KL",
        "colab_type": "text"
      },
      "source": [
        "# Part 1 - Scalars and Vectors\n",
        "\n",
        "For the questions below it is not sufficient to simply provide answer to the questions, but you must solve the problems and show your work using python (the NumPy library will help a lot!) Translate the vectors and matrices into their appropriate python  representations and use numpy or functions that you write yourself to demonstrate the result or property. "
      ]
    },
    {
      "cell_type": "markdown",
      "metadata": {
        "id": "oNOTv43_Zi9L",
        "colab_type": "text"
      },
      "source": [
        "## 1.1 Create a two-dimensional vector and plot it on a graph"
      ]
    },
    {
      "cell_type": "code",
      "metadata": {
        "id": "vaDLimu-Rs_S",
        "colab_type": "code",
        "colab": {}
      },
      "source": [
        "import numpy as np\n",
        "import pandas as pd\n",
        "import matplotlib.pyplot as plt"
      ],
      "execution_count": 0,
      "outputs": []
    },
    {
      "cell_type": "code",
      "metadata": {
        "id": "XNqjzQzrkVG7",
        "colab_type": "code",
        "colab": {}
      },
      "source": [
        "d2 = pd.DataFrame([[3,4],[4,5]], columns=['x','y'])"
      ],
      "execution_count": 0,
      "outputs": []
    },
    {
      "cell_type": "code",
      "metadata": {
        "id": "exsKWysMTajI",
        "colab_type": "code",
        "outputId": "29cd52ba-7396-44b9-d5a8-d6aea012ee2a",
        "colab": {
          "base_uri": "https://localhost:8080/",
          "height": 106
        }
      },
      "source": [
        "d2"
      ],
      "execution_count": 3,
      "outputs": [
        {
          "output_type": "execute_result",
          "data": {
            "text/html": [
              "<div>\n",
              "<style scoped>\n",
              "    .dataframe tbody tr th:only-of-type {\n",
              "        vertical-align: middle;\n",
              "    }\n",
              "\n",
              "    .dataframe tbody tr th {\n",
              "        vertical-align: top;\n",
              "    }\n",
              "\n",
              "    .dataframe thead th {\n",
              "        text-align: right;\n",
              "    }\n",
              "</style>\n",
              "<table border=\"1\" class=\"dataframe\">\n",
              "  <thead>\n",
              "    <tr style=\"text-align: right;\">\n",
              "      <th></th>\n",
              "      <th>x</th>\n",
              "      <th>y</th>\n",
              "    </tr>\n",
              "  </thead>\n",
              "  <tbody>\n",
              "    <tr>\n",
              "      <th>0</th>\n",
              "      <td>3</td>\n",
              "      <td>4</td>\n",
              "    </tr>\n",
              "    <tr>\n",
              "      <th>1</th>\n",
              "      <td>4</td>\n",
              "      <td>5</td>\n",
              "    </tr>\n",
              "  </tbody>\n",
              "</table>\n",
              "</div>"
            ],
            "text/plain": [
              "   x  y\n",
              "0  3  4\n",
              "1  4  5"
            ]
          },
          "metadata": {
            "tags": []
          },
          "execution_count": 3
        }
      ]
    },
    {
      "cell_type": "code",
      "metadata": {
        "id": "MmdrNkbBRbyk",
        "colab_type": "code",
        "outputId": "65d6a5c6-71b1-4d13-cf90-2461a4a29e42",
        "colab": {
          "base_uri": "https://localhost:8080/",
          "height": 295
        }
      },
      "source": [
        "plt.arrow(0,0,*d2.loc[0], head_length=0.2, head_width=0.6,color='r')\n",
        "plt.title('2D Vector')\n",
        "plt.xlim([0,8])\n",
        "plt.ylim([0,8])\n",
        "plt.xlabel('This')\n",
        "plt.ylabel('That')\n",
        "plt.show()"
      ],
      "execution_count": 4,
      "outputs": [
        {
          "output_type": "display_data",
          "data": {
            "image/png": "[encoded data removed]",
            "text/plain": [
              "<Figure size 432x288 with 1 Axes>"
            ]
          },
          "metadata": {
            "tags": []
          }
        }
      ]
    },
    {
      "cell_type": "code",
      "metadata": {
        "id": "6H92ILqCTqsg",
        "colab_type": "code",
        "colab": {}
      },
      "source": [
        "d2['z'] = 4\n",
        "d2['OriginX']=0\n",
        "d2['OriginY']=0\n",
        "d2['OriginZ']=0"
      ],
      "execution_count": 0,
      "outputs": []
    },
    {
      "cell_type": "code",
      "metadata": {
        "id": "aGHv1zvUTude",
        "colab_type": "code",
        "colab": {}
      },
      "source": [
        "d2 = d2[d2.columns[::-1]]#reverse the column heads to get into order"
      ],
      "execution_count": 0,
      "outputs": []
    },
    {
      "cell_type": "code",
      "metadata": {
        "id": "xJwkFcsvW4hn",
        "colab_type": "code",
        "outputId": "4aee6d15-8e9a-46e2-eaa2-2118a94c4dad",
        "colab": {
          "base_uri": "https://localhost:8080/",
          "height": 106
        }
      },
      "source": [
        "d2.head()#value doesnt matter the origin in this case is zero point\n",
        "\n"
      ],
      "execution_count": 7,
      "outputs": [
        {
          "output_type": "execute_result",
          "data": {
            "text/html": [
              "<div>\n",
              "<style scoped>\n",
              "    .dataframe tbody tr th:only-of-type {\n",
              "        vertical-align: middle;\n",
              "    }\n",
              "\n",
              "    .dataframe tbody tr th {\n",
              "        vertical-align: top;\n",
              "    }\n",
              "\n",
              "    .dataframe thead th {\n",
              "        text-align: right;\n",
              "    }\n",
              "</style>\n",
              "<table border=\"1\" class=\"dataframe\">\n",
              "  <thead>\n",
              "    <tr style=\"text-align: right;\">\n",
              "      <th></th>\n",
              "      <th>OriginZ</th>\n",
              "      <th>OriginY</th>\n",
              "      <th>OriginX</th>\n",
              "      <th>z</th>\n",
              "      <th>y</th>\n",
              "      <th>x</th>\n",
              "    </tr>\n",
              "  </thead>\n",
              "  <tbody>\n",
              "    <tr>\n",
              "      <th>0</th>\n",
              "      <td>0</td>\n",
              "      <td>0</td>\n",
              "      <td>0</td>\n",
              "      <td>4</td>\n",
              "      <td>4</td>\n",
              "      <td>3</td>\n",
              "    </tr>\n",
              "    <tr>\n",
              "      <th>1</th>\n",
              "      <td>0</td>\n",
              "      <td>0</td>\n",
              "      <td>0</td>\n",
              "      <td>4</td>\n",
              "      <td>5</td>\n",
              "      <td>4</td>\n",
              "    </tr>\n",
              "  </tbody>\n",
              "</table>\n",
              "</div>"
            ],
            "text/plain": [
              "   OriginZ  OriginY  OriginX  z  y  x\n",
              "0        0        0        0  4  4  3\n",
              "1        0        0        0  4  5  4"
            ]
          },
          "metadata": {
            "tags": []
          },
          "execution_count": 7
        }
      ]
    },
    {
      "cell_type": "code",
      "metadata": {
        "id": "atUEd3T6llKm",
        "colab_type": "code",
        "colab": {}
      },
      "source": [
        "\n",
        "from mpl_toolkits.mplot3d import Axes3D\n",
        "import numpy as np\n",
        "\n",
        "array_d20 = np.array(d2.loc[0])#pass the rows as np arrays\n",
        "array_d21 = np.array(d2.loc[1])\n",
        "\n",
        "\n"
      ],
      "execution_count": 0,
      "outputs": []
    },
    {
      "cell_type": "code",
      "metadata": {
        "id": "_V-VfkHaXIMc",
        "colab_type": "code",
        "outputId": "ca9abd7e-1d59-4255-b43e-c5d0f7658599",
        "colab": {
          "base_uri": "https://localhost:8080/",
          "height": 34
        }
      },
      "source": [
        "array_d20"
      ],
      "execution_count": 9,
      "outputs": [
        {
          "output_type": "execute_result",
          "data": {
            "text/plain": [
              "array([0, 0, 0, 4, 4, 3])"
            ]
          },
          "metadata": {
            "tags": []
          },
          "execution_count": 9
        }
      ]
    },
    {
      "cell_type": "code",
      "metadata": {
        "id": "dcWZ4MsIT8nt",
        "colab_type": "code",
        "outputId": "e80a194c-0c9f-49ed-d4f3-cb0c8bf06724",
        "colab": {
          "base_uri": "https://localhost:8080/",
          "height": 50
        }
      },
      "source": [
        "#make an array of arrays for the vectors\n",
        "vectors = np.array([array_d20, array_d21])\n",
        "vectors\n"
      ],
      "execution_count": 10,
      "outputs": [
        {
          "output_type": "execute_result",
          "data": {
            "text/plain": [
              "array([[0, 0, 0, 4, 4, 3],\n",
              "       [0, 0, 0, 4, 5, 4]])"
            ]
          },
          "metadata": {
            "tags": []
          },
          "execution_count": 10
        }
      ]
    },
    {
      "cell_type": "code",
      "metadata": {
        "id": "UHNSd1kJXdWU",
        "colab_type": "code",
        "outputId": "895b3716-ad95-4159-f633-8d5227533f93",
        "colab": {
          "base_uri": "https://localhost:8080/",
          "height": 466
        }
      },
      "source": [
        "X, Y, Z, U, V, W = zip(*vectors)\n",
        "fig = plt.figure(figsize=(8,8))\n",
        "ax = fig.add_subplot(111, projection='3d')\n",
        "ax.quiver(X, Y, Z, U, V, W, length=1)\n",
        "plt.title('2 different - 3D Vector')\n",
        "ax.set_xlim([-1,2])\n",
        "ax.set_ylim([-1,2])\n",
        "ax.set_zlim([-1,2])\n",
        "ax.set_xlabel('The Other Thing')\n",
        "ax.set_xlabel('This')\n",
        "ax.set_ylabel('That')\n",
        "plt.show()\n"
      ],
      "execution_count": 11,
      "outputs": [
        {
          "output_type": "display_data",
          "data": {
            "image/png": "[encoded data removed]",
            "text/plain": [
              "<Figure size 576x576 with 1 Axes>"
            ]
          },
          "metadata": {
            "tags": []
          }
        }
      ]
    },
    {
      "cell_type": "markdown",
      "metadata": {
        "id": "b7qFxbKxZmI2",
        "colab_type": "text"
      },
      "source": [
        "## 1.3 Scale the vectors you created in 1.1 by $5$, $\\pi$, and $-e$ and plot all four vectors (original + 3 scaled vectors) on a graph. What do you notice about these vectors? "
      ]
    },
    {
      "cell_type": "code",
      "metadata": {
        "id": "wAWQdypeuUnk",
        "colab_type": "code",
        "colab": {}
      },
      "source": [
        "import math"
      ],
      "execution_count": 0,
      "outputs": []
    },
    {
      "cell_type": "code",
      "metadata": {
        "id": "WHa38OnkbFdh",
        "colab_type": "code",
        "colab": {}
      },
      "source": [
        "def machineEpsilon(func=float):\n",
        "    machine_epsilon = func(1)\n",
        "    while func(1)+func(machine_epsilon) != func(1):\n",
        "        machine_epsilon_last = machine_epsilon\n",
        "        machine_epsilon = func(machine_epsilon) / func(2)\n",
        "    return machine_epsilon_last"
      ],
      "execution_count": 0,
      "outputs": []
    },
    {
      "cell_type": "code",
      "metadata": {
        "id": "pT7BBdzNuRmF",
        "colab_type": "code",
        "outputId": "65cc88c7-98d5-4b9d-d122-1f206ded56af",
        "colab": {
          "base_uri": "https://localhost:8080/",
          "height": 34
        }
      },
      "source": [
        "math.e"
      ],
      "execution_count": 14,
      "outputs": [
        {
          "output_type": "execute_result",
          "data": {
            "text/plain": [
              "2.718281828459045"
            ]
          },
          "metadata": {
            "tags": []
          },
          "execution_count": 14
        }
      ]
    },
    {
      "cell_type": "code",
      "metadata": {
        "id": "3qpwDlzXkVf5",
        "colab_type": "code",
        "outputId": "8038ba41-8d3d-4046-fd20-9c9df54d86cc",
        "colab": {
          "base_uri": "https://localhost:8080/",
          "height": 34
        }
      },
      "source": [
        "d2_5 = np.multiply(array_d20[3:5], 5)\n",
        "d2_5\n",
        "d2_pi = np.multiply(array_d20[3:5], np.pi)\n",
        "d2_eps = np.multiply(array_d20[3:5], machineEpsilon(np.float64))\n",
        "d2_eps"
      ],
      "execution_count": 15,
      "outputs": [
        {
          "output_type": "execute_result",
          "data": {
            "text/plain": [
              "array([8.8817842e-16, 8.8817842e-16])"
            ]
          },
          "metadata": {
            "tags": []
          },
          "execution_count": 15
        }
      ]
    },
    {
      "cell_type": "code",
      "metadata": {
        "id": "Unk1D6f5brUN",
        "colab_type": "code",
        "outputId": "b77e9087-d8cc-485d-fcb3-61eed6307604",
        "colab": {
          "base_uri": "https://localhost:8080/",
          "height": 295
        }
      },
      "source": [
        "plt.arrow(0,0,*array_d20[3:5], head_length=0.2, head_width=0.6,color='r')\n",
        "plt.arrow(0,0,*d2_5, head_length=0.2, head_width=0.6,color='g')\n",
        "plt.arrow(0,0,*d2_pi, head_length=0.2, head_width=0.6,color='b')\n",
        "plt.arrow(0,0,*d2_eps, head_length=0.2, head_width=0.6,color='orange')\n",
        "\n",
        "plt.title('2D Vector by 5, Pi, Epsilon')\n",
        "plt.xlim([0,21])\n",
        "plt.ylim([0,21])\n",
        "plt.xlabel('This')\n",
        "plt.ylabel('That')\n",
        "plt.show()"
      ],
      "execution_count": 16,
      "outputs": [
        {
          "output_type": "display_data",
          "data": {
            "image/png": "[encoded data removed]",
            "text/plain": [
              "<Figure size 432x288 with 1 Axes>"
            ]
          },
          "metadata": {
            "tags": []
          }
        }
      ]
    },
    {
      "cell_type": "markdown",
      "metadata": {
        "id": "wrgqa6sWimbH",
        "colab_type": "text"
      },
      "source": [
        "## 1.4 Graph vectors $\\vec{a}$ and $\\vec{b}$ and plot them on a graph\n",
        "\n",
        "\\begin{align}\n",
        "\\vec{a} = \\begin{bmatrix} 5 \\\\ 7 \\end{bmatrix}\n",
        "\\qquad\n",
        "\\vec{b} = \\begin{bmatrix} 3 \\\\4 \\end{bmatrix}\n",
        "\\end{align}"
      ]
    },
    {
      "cell_type": "code",
      "metadata": {
        "id": "ZVi0k397cUSy",
        "colab_type": "code",
        "colab": {}
      },
      "source": [
        "av = np.array([5,7])\n",
        "bv = np.array([3,4])"
      ],
      "execution_count": 0,
      "outputs": []
    },
    {
      "cell_type": "code",
      "metadata": {
        "id": "I1BGXA_skV-b",
        "colab_type": "code",
        "outputId": "4b6b24d7-cfb6-4045-b06f-dc0a993b6d42",
        "colab": {
          "base_uri": "https://localhost:8080/",
          "height": 295
        }
      },
      "source": [
        "plt.arrow(0,0,*av, head_length=0.2, head_width=0.6,color='r')\n",
        "plt.arrow(0,0,*bv, head_length=0.2, head_width=0.6,color='g')\n",
        "\n",
        "plt.title('2D Vector')\n",
        "plt.xlim([0,8])\n",
        "plt.ylim([0,8])\n",
        "plt.xlabel('This')\n",
        "plt.ylabel('That')\n",
        "plt.show()"
      ],
      "execution_count": 18,
      "outputs": [
        {
          "output_type": "display_data",
          "data": {
            "image/png": "[encoded data removed]",
            "text/plain": [
              "<Figure size 432x288 with 1 Axes>"
            ]
          },
          "metadata": {
            "tags": []
          }
        }
      ]
    },
    {
      "cell_type": "markdown",
      "metadata": {
        "id": "QN6RU_3gizpw",
        "colab_type": "text"
      },
      "source": [
        "## 1.5 find $\\vec{a} - \\vec{b}$ and plot the result on the same graph as $\\vec{a}$ and $\\vec{b}$. Is there a relationship between vectors $\\vec{a} \\thinspace, \\vec{b} \\thinspace \\text{and} \\thinspace \\vec{a-b}$"
      ]
    },
    {
      "cell_type": "code",
      "metadata": {
        "id": "68sWHIOPkXp5",
        "colab_type": "code",
        "outputId": "fee426c0-bb2c-4123-e6c7-d1e6bd1eb6c1",
        "colab": {
          "base_uri": "https://localhost:8080/",
          "height": 295
        }
      },
      "source": [
        "cv = np.subtract(av,bv)\n",
        "plt.arrow(0,0,*av, head_length=0.2, head_width=0.6,color='r')\n",
        "plt.arrow(0,0,*bv, head_length=0.2, head_width=0.6,color='g')\n",
        "plt.arrow(0,0,*cv, head_length=0.2, head_width=0.6,color='r')\n",
        "\n",
        "plt.title('2D Vector Subtraction: Difference in Length of Vectors = new Vector')\n",
        "plt.xlim([0,8])\n",
        "plt.ylim([0,8])\n",
        "plt.xlabel('This')\n",
        "plt.ylabel('That')\n",
        "plt.show()"
      ],
      "execution_count": 19,
      "outputs": [
        {
          "output_type": "display_data",
          "data": {
            "image/png": "[encoded data removed]",
            "text/plain": [
              "<Figure size 432x288 with 1 Axes>"
            ]
          },
          "metadata": {
            "tags": []
          }
        }
      ]
    },
    {
      "cell_type": "markdown",
      "metadata": {
        "id": "1ZPVuJAlehu_",
        "colab_type": "text"
      },
      "source": [
        "## 1.6 Find $c \\cdot d$\n",
        "\n",
        "\\begin{align}\n",
        "\\vec{c} = \\begin{bmatrix}7 & 22 & 4 & 16\\end{bmatrix}\n",
        "\\qquad\n",
        "\\vec{d} = \\begin{bmatrix}12 & 6 & 2 & 9\\end{bmatrix}\n",
        "\\end{align}\n"
      ]
    },
    {
      "cell_type": "code",
      "metadata": {
        "id": "2_cZQFCskYNr",
        "colab_type": "code",
        "outputId": "ef162a4c-01eb-466b-ed56-cf230f8bd1ed",
        "colab": {
          "base_uri": "https://localhost:8080/",
          "height": 34
        }
      },
      "source": [
        "c = np.array([7,22,4,16])\n",
        "d = np.array([12,6,2,9])\n",
        "\n",
        "c.dot(d)\n",
        "\n",
        "# np.inner(c,d) Also the same for 1 D arrays,\n",
        "#Ordinary inner product of vectors for 1-D arrays \n",
        "# (without complex conjugation), in higher dimensions \n",
        "# a sum product over the last axes\n"
      ],
      "execution_count": 20,
      "outputs": [
        {
          "output_type": "execute_result",
          "data": {
            "text/plain": [
              "368"
            ]
          },
          "metadata": {
            "tags": []
          },
          "execution_count": 20
        }
      ]
    },
    {
      "cell_type": "markdown",
      "metadata": {
        "id": "cLm8yokpfg9B",
        "colab_type": "text"
      },
      "source": [
        "##  1.7 Find $e \\times f$\n",
        "\n",
        "\\begin{align}\n",
        "\\vec{e} = \\begin{bmatrix} 5 \\\\ 7 \\\\ 2 \\end{bmatrix}\n",
        "\\qquad\n",
        "\\vec{f} = \\begin{bmatrix} 3 \\\\4 \\\\ 6 \\end{bmatrix}\n",
        "\\end{align}"
      ]
    },
    {
      "cell_type": "code",
      "metadata": {
        "id": "ku-TdCKAkYs8",
        "colab_type": "code",
        "outputId": "6a35027f-8d9d-40d3-ff3b-c6d858de37b3",
        "colab": {
          "base_uri": "https://localhost:8080/",
          "height": 34
        }
      },
      "source": [
        "#cross product of two vectors not the multiplication \n",
        "eV = np.array([5,7,2])\n",
        "fV = np.array([3,4,6])\n",
        "np.cross(eV,fV)"
      ],
      "execution_count": 21,
      "outputs": [
        {
          "output_type": "execute_result",
          "data": {
            "text/plain": [
              "array([ 34, -24,  -1])"
            ]
          },
          "metadata": {
            "tags": []
          },
          "execution_count": 21
        }
      ]
    },
    {
      "cell_type": "markdown",
      "metadata": {
        "id": "-TN8wO2-h53s",
        "colab_type": "text"
      },
      "source": [
        "## 1.8 Find $||e||$ and then find $||f||$. Which is longer?\n",
        "\n",
        "\\begin{align}\n",
        "\\vec{e} = \\begin{bmatrix} 1 \\\\ 1 \\\\ 1 \\\\ 8 \\end{bmatrix}\n",
        "\\qquad\n",
        "\\vec{f} = \\begin{bmatrix} 3 \\\\3 \\\\ 3 \\\\ 3 \\end{bmatrix}\n",
        "\\end{align}"
      ]
    },
    {
      "cell_type": "code",
      "metadata": {
        "id": "-5VKOMKBlgaA",
        "colab_type": "code",
        "outputId": "38b32015-8c4a-4687-9c3f-1e04cd948891",
        "colab": {
          "base_uri": "https://localhost:8080/",
          "height": 67
        }
      },
      "source": [
        "#double bars mean find the norm of a vector (magnitude or length0)\n",
        "e2V = [1,1,1,8]\n",
        "f2V = [3,3,3,3]\n",
        "print(np.linalg.norm(e2V))\n",
        "print(np.linalg.norm(f2V))\n",
        "if e2V > f2V:\n",
        "  print(\"e2V is greater\")\n",
        "else:\n",
        "  print(\"f2V is greater\")\n",
        "        "
      ],
      "execution_count": 22,
      "outputs": [
        {
          "output_type": "stream",
          "text": [
            "8.18535277187245\n",
            "6.0\n",
            "f2V is greater\n"
          ],
          "name": "stdout"
        }
      ]
    },
    {
      "cell_type": "markdown",
      "metadata": {
        "id": "wby1GdwSoMKd",
        "colab_type": "text"
      },
      "source": [
        "## 1.9 Show that the following vectors are orthogonal (perpendicular to each other):\n",
        "\n",
        "\\begin{align}\n",
        "\\vec{g} = \\begin{bmatrix} 1 \\\\ 0 \\\\ -1  \\end{bmatrix}\n",
        "\\qquad\n",
        "\\vec{h} = \\begin{bmatrix} 1 \\\\ \\sqrt{2} \\\\ 1 \\end{bmatrix}\n",
        "\\end{align}"
      ]
    },
    {
      "cell_type": "code",
      "metadata": {
        "id": "1qgBBjGzoxZD",
        "colab_type": "code",
        "outputId": "9fa912dd-13fe-4755-9ef6-822d7589c11d",
        "colab": {
          "base_uri": "https://localhost:8080/",
          "height": 34
        }
      },
      "source": [
        "g= np.array([1,0,-1])\n",
        "h = np.array([1, np.sqrt(2), 1])\n",
        "dotprod = g.dot(h)\n",
        "if dotprod == 0:\n",
        "  print(\"Maury says, The test results are back and......you› ARE orthogonal,which mean perpendicular, homes\")\n",
        "else:\n",
        "  print(\"They are NOT orthogonal, or perpedicular whatevers clever\")"
      ],
      "execution_count": 23,
      "outputs": [
        {
          "output_type": "stream",
          "text": [
            "Maury says, The test results are back and......you› ARE orthogonal,which mean perpendicular, homes\n"
          ],
          "name": "stdout"
        }
      ]
    },
    {
      "cell_type": "code",
      "metadata": {
        "id": "418ynpZIQTPv",
        "colab_type": "code",
        "outputId": "5ec5b463-2ee0-4659-c1ae-208be619f377",
        "colab": {
          "base_uri": "https://localhost:8080/",
          "height": 466
        }
      },
      "source": [
        "vectors = np.array([\n",
        "    [0, 0, 0, 1, 0, -1],\n",
        "    [0, 0, 0, 1, np.sqrt(2), 1]\n",
        "])\n",
        "Q, R, S, T, U, V = zip(*vectors)\n",
        "fig = plt.figure(figsize=(8,8))\n",
        "ax = fig.add_subplot(111, projection='3d')\n",
        "ax.quiver(Q, R, S, T, U, V, length=1)\n",
        "plt.title('2 different - 3D Vector')\n",
        "ax.set_xlim([-.5,1.5])\n",
        "ax.set_ylim([-1.5,1.5])\n",
        "ax.set_zlim([-.5,1.5])\n",
        "ax.set_zlabel('The Other Thing')\n",
        "ax.set_xlabel('This')\n",
        "ax.set_ylabel('That')\n",
        "plt.show()"
      ],
      "execution_count": 24,
      "outputs": [
        {
          "output_type": "display_data",
          "data": {
            "image/png": "[encoded data removed]",
            "text/plain": [
              "<Figure size 576x576 with 1 Axes>"
            ]
          },
          "metadata": {
            "tags": []
          }
        }
      ]
    },
    {
      "cell_type": "markdown",
      "metadata": {
        "id": "njrWIMS-ZAoH",
        "colab_type": "text"
      },
      "source": [
        "# Part 2 - Matrices"
      ]
    },
    {
      "cell_type": "markdown",
      "metadata": {
        "id": "GjkcAVIOmOnn",
        "colab_type": "text"
      },
      "source": [
        "## 2.1 What are the dimensions of the following matrices? Which of the following can be multiplied together? See if you can find all of the different legal combinations.\n",
        "\\begin{align}\n",
        "A = \\begin{bmatrix}\n",
        "1 & 2 \\\\\n",
        "3 & 4 \\\\\n",
        "5 & 6\n",
        "\\end{bmatrix}\n",
        "\\qquad\n",
        "B = \\begin{bmatrix}\n",
        "2 & 4 & 6 \\\\\n",
        "\\end{bmatrix}\n",
        "\\qquad\n",
        "C = \\begin{bmatrix}\n",
        "9 & 6 & 3 \\\\\n",
        "4 & 7 & 11\n",
        "\\end{bmatrix}\n",
        "\\qquad\n",
        "D = \\begin{bmatrix}\n",
        "1 & 0 & 0 \\\\\n",
        "0 & 1 & 0 \\\\\n",
        "0 & 0 & 1\n",
        "\\end{bmatrix}\n",
        "\\qquad\n",
        "E = \\begin{bmatrix}\n",
        "1 & 3 \\\\\n",
        "5 & 7\n",
        "\\end{bmatrix}\n",
        "\\end{align}"
      ]
    },
    {
      "cell_type": "code",
      "metadata": {
        "id": "Z69c-uPtnbIx",
        "colab_type": "code",
        "colab": {}
      },
      "source": [
        "a = np.array([[1,2],[3,4],[5,6]])\n",
        "b = np.array([2, 4, 6])\n",
        "c = np.array([[9,6,3], [4,7,11]])\n",
        "d = np.identity(3)\n",
        "e = np.array([[1,3],[5,7]])\n",
        "group = [a,b,c,d,e]"
      ],
      "execution_count": 0,
      "outputs": []
    },
    {
      "cell_type": "code",
      "metadata": {
        "id": "L8HA2R2DAFwJ",
        "colab_type": "code",
        "outputId": "8f06204e-221b-4c80-8c7f-eeec00547508",
        "colab": {
          "base_uri": "https://localhost:8080/",
          "height": 34
        }
      },
      "source": [
        "list(range(len(group) +1))"
      ],
      "execution_count": 26,
      "outputs": [
        {
          "output_type": "execute_result",
          "data": {
            "text/plain": [
              "[0, 1, 2, 3, 4, 5]"
            ]
          },
          "metadata": {
            "tags": []
          },
          "execution_count": 26
        }
      ]
    },
    {
      "cell_type": "code",
      "metadata": {
        "id": "K7MSLKjV8Mfo",
        "colab_type": "code",
        "outputId": "325c6556-e52b-4eb2-a326-fc1ce15bb862",
        "colab": {
          "base_uri": "https://localhost:8080/",
          "height": 2604
        }
      },
      "source": [
        "for _ in group:\n",
        "  for i in list(range(len(group))):\n",
        "    try:\n",
        "      S = _* group[i]\n",
        "      print(f\"The shape of \\n {_} is \\n\", f\"{_.shape} sucka\")\n",
        "      print(f\"The product of \\n\", f\"{_} and\", f\"{group[i]}\", f\"\\n is\\n\", f\"{group[i].dot(_)}..... son\")\n",
        "      print(f\"The resulting array size is {S.size}, PHAT\")\n",
        "      print(f\"The resulting array shape is {S.shape}\")\n",
        "    except:\n",
        "        print(f\" List {_} will NOT multiply with list {group[i]}....ya heard\")\n",
        "       "
      ],
      "execution_count": 52,
      "outputs": [
        {
          "output_type": "stream",
          "text": [
            "The shape of \n",
            " [[1 2]\n",
            " [3 4]\n",
            " [5 6]] is \n",
            " (3, 2) sucka\n",
            " List [[1 2]\n",
            " [3 4]\n",
            " [5 6]] will NOT multiply with list [[1 2]\n",
            " [3 4]\n",
            " [5 6]]....ya heard\n",
            " List [[1 2]\n",
            " [3 4]\n",
            " [5 6]] will NOT multiply with list [2 4 6]....ya heard\n",
            " List [[1 2]\n",
            " [3 4]\n",
            " [5 6]] will NOT multiply with list [[ 9  6  3]\n",
            " [ 4  7 11]]....ya heard\n",
            " List [[1 2]\n",
            " [3 4]\n",
            " [5 6]] will NOT multiply with list [[1. 0. 0.]\n",
            " [0. 1. 0.]\n",
            " [0. 0. 1.]]....ya heard\n",
            " List [[1 2]\n",
            " [3 4]\n",
            " [5 6]] will NOT multiply with list [[1 3]\n",
            " [5 7]]....ya heard\n",
            " List [2 4 6] will NOT multiply with list [[1 2]\n",
            " [3 4]\n",
            " [5 6]]....ya heard\n",
            "The shape of \n",
            " [2 4 6] is \n",
            " (3,) sucka\n",
            "The product of \n",
            " [2 4 6] and [2 4 6] \n",
            " is\n",
            " 56..... son\n",
            "The resulting array size is 3, PHAT\n",
            "The resulting array shape is (3,)\n",
            "The shape of \n",
            " [2 4 6] is \n",
            " (3,) sucka\n",
            "The product of \n",
            " [2 4 6] and [[ 9  6  3]\n",
            " [ 4  7 11]] \n",
            " is\n",
            " [ 60 102]..... son\n",
            "The resulting array size is 6, PHAT\n",
            "The resulting array shape is (2, 3)\n",
            "The shape of \n",
            " [2 4 6] is \n",
            " (3,) sucka\n",
            "The product of \n",
            " [2 4 6] and [[1. 0. 0.]\n",
            " [0. 1. 0.]\n",
            " [0. 0. 1.]] \n",
            " is\n",
            " [2. 4. 6.]..... son\n",
            "The resulting array size is 9, PHAT\n",
            "The resulting array shape is (3, 3)\n",
            " List [2 4 6] will NOT multiply with list [[1 3]\n",
            " [5 7]]....ya heard\n",
            " List [[ 9  6  3]\n",
            " [ 4  7 11]] will NOT multiply with list [[1 2]\n",
            " [3 4]\n",
            " [5 6]]....ya heard\n",
            "The shape of \n",
            " [[ 9  6  3]\n",
            " [ 4  7 11]] is \n",
            " (2, 3) sucka\n",
            " List [[ 9  6  3]\n",
            " [ 4  7 11]] will NOT multiply with list [2 4 6]....ya heard\n",
            "The shape of \n",
            " [[ 9  6  3]\n",
            " [ 4  7 11]] is \n",
            " (2, 3) sucka\n",
            " List [[ 9  6  3]\n",
            " [ 4  7 11]] will NOT multiply with list [[ 9  6  3]\n",
            " [ 4  7 11]]....ya heard\n",
            " List [[ 9  6  3]\n",
            " [ 4  7 11]] will NOT multiply with list [[1. 0. 0.]\n",
            " [0. 1. 0.]\n",
            " [0. 0. 1.]]....ya heard\n",
            " List [[ 9  6  3]\n",
            " [ 4  7 11]] will NOT multiply with list [[1 3]\n",
            " [5 7]]....ya heard\n",
            " List [[1. 0. 0.]\n",
            " [0. 1. 0.]\n",
            " [0. 0. 1.]] will NOT multiply with list [[1 2]\n",
            " [3 4]\n",
            " [5 6]]....ya heard\n",
            "The shape of \n",
            " [[1. 0. 0.]\n",
            " [0. 1. 0.]\n",
            " [0. 0. 1.]] is \n",
            " (3, 3) sucka\n",
            "The product of \n",
            " [[1. 0. 0.]\n",
            " [0. 1. 0.]\n",
            " [0. 0. 1.]] and [2 4 6] \n",
            " is\n",
            " [2. 4. 6.]..... son\n",
            "The resulting array size is 9, PHAT\n",
            "The resulting array shape is (3, 3)\n",
            " List [[1. 0. 0.]\n",
            " [0. 1. 0.]\n",
            " [0. 0. 1.]] will NOT multiply with list [[ 9  6  3]\n",
            " [ 4  7 11]]....ya heard\n",
            "The shape of \n",
            " [[1. 0. 0.]\n",
            " [0. 1. 0.]\n",
            " [0. 0. 1.]] is \n",
            " (3, 3) sucka\n",
            "The product of \n",
            " [[1. 0. 0.]\n",
            " [0. 1. 0.]\n",
            " [0. 0. 1.]] and [[1. 0. 0.]\n",
            " [0. 1. 0.]\n",
            " [0. 0. 1.]] \n",
            " is\n",
            " [[1. 0. 0.]\n",
            " [0. 1. 0.]\n",
            " [0. 0. 1.]]..... son\n",
            "The resulting array size is 9, PHAT\n",
            "The resulting array shape is (3, 3)\n",
            " List [[1. 0. 0.]\n",
            " [0. 1. 0.]\n",
            " [0. 0. 1.]] will NOT multiply with list [[1 3]\n",
            " [5 7]]....ya heard\n",
            " List [[1 3]\n",
            " [5 7]] will NOT multiply with list [[1 2]\n",
            " [3 4]\n",
            " [5 6]]....ya heard\n",
            " List [[1 3]\n",
            " [5 7]] will NOT multiply with list [2 4 6]....ya heard\n",
            " List [[1 3]\n",
            " [5 7]] will NOT multiply with list [[ 9  6  3]\n",
            " [ 4  7 11]]....ya heard\n",
            " List [[1 3]\n",
            " [5 7]] will NOT multiply with list [[1. 0. 0.]\n",
            " [0. 1. 0.]\n",
            " [0. 0. 1.]]....ya heard\n",
            "The shape of \n",
            " [[1 3]\n",
            " [5 7]] is \n",
            " (2, 2) sucka\n",
            "The product of \n",
            " [[1 3]\n",
            " [5 7]] and [[1 3]\n",
            " [5 7]] \n",
            " is\n",
            " [[16 24]\n",
            " [40 64]]..... son\n",
            "The resulting array size is 4, PHAT\n",
            "The resulting array shape is (2, 2)\n"
          ],
          "name": "stdout"
        }
      ]
    },
    {
      "cell_type": "markdown",
      "metadata": {
        "id": "lMOlCoM3ncGa",
        "colab_type": "text"
      },
      "source": [
        "## 2.2 Find the following products: CD, AE, and BA. What are the dimensions of the resulting matrices? How does that relate to the dimensions of their factor matrices?"
      ]
    },
    {
      "cell_type": "code",
      "metadata": {
        "id": "zhKwiSItoE2F",
        "colab_type": "code",
        "colab": {}
      },
      "source": [
        "#see above"
      ],
      "execution_count": 0,
      "outputs": []
    },
    {
      "cell_type": "markdown",
      "metadata": {
        "id": "p2jmaGLgoFPN",
        "colab_type": "text"
      },
      "source": [
        "## 2.3  Find $F^{T}$. How are the numbers along the main diagonal (top left to bottom right) of the original matrix and its transpose related? What are the dimensions of $F$? What are the dimensions of $F^{T}$?\n",
        "\n",
        "\\begin{align}\n",
        "F = \n",
        "\\begin{bmatrix}\n",
        "20 & 19 & 18 & 17 \\\\\n",
        "16 & 15 & 14 & 13 \\\\\n",
        "12 & 11 & 10 & 9 \\\\\n",
        "8 & 7 & 6 & 5 \\\\\n",
        "4 & 3 & 2 & 1\n",
        "\\end{bmatrix}\n",
        "\\end{align}"
      ]
    },
    {
      "cell_type": "code",
      "metadata": {
        "id": "Wl3ElwgLqaAn",
        "colab_type": "code",
        "outputId": "453ef9eb-a3bd-4e10-ed04-5bfb2d5af0db",
        "colab": {
          "base_uri": "https://localhost:8080/",
          "height": 84
        }
      },
      "source": [
        "F = np.transpose([\n",
        "    [20, 19, 18,17],\n",
        "    [16, 15, 14, 13],\n",
        "    [12, 11, 10, 9],\n",
        "    [8, 7, 6, 5],\n",
        "    [4, 3, 2, 1]\n",
        "])\n",
        "F"
      ],
      "execution_count": 29,
      "outputs": [
        {
          "output_type": "execute_result",
          "data": {
            "text/plain": [
              "array([[20, 16, 12,  8,  4],\n",
              "       [19, 15, 11,  7,  3],\n",
              "       [18, 14, 10,  6,  2],\n",
              "       [17, 13,  9,  5,  1]])"
            ]
          },
          "metadata": {
            "tags": []
          },
          "execution_count": 29
        }
      ]
    },
    {
      "cell_type": "markdown",
      "metadata": {
        "id": "13ik2LEEZLHn",
        "colab_type": "text"
      },
      "source": [
        "# Part 3 - Square Matrices"
      ]
    },
    {
      "cell_type": "markdown",
      "metadata": {
        "id": "sDBAPUwfp7f7",
        "colab_type": "text"
      },
      "source": [
        "## 3.1 Find $IG$ (be sure to show your work) 😃\n",
        "\n",
        "\\begin{align}\n",
        "G= \n",
        "\\begin{bmatrix}\n",
        "12 & 11 \\\\\n",
        "7 & 10 \n",
        "\\end{bmatrix}\n",
        "\\end{align}"
      ]
    },
    {
      "cell_type": "code",
      "metadata": {
        "id": "ZnqvZBOYqar3",
        "colab_type": "code",
        "outputId": "9c8acd2e-5ad5-440a-8558-dc7a62428f0c",
        "colab": {
          "base_uri": "https://localhost:8080/",
          "height": 84
        }
      },
      "source": [
        "G = np.array([[12,11],[7,10]])\n",
        "i = np.identity(2)\n",
        "print(f\"The identity matrix of a G is {i}, because it has {np.size(G,0)} rows, playa.\")\n",
        "\n",
        "i*G"
      ],
      "execution_count": 30,
      "outputs": [
        {
          "output_type": "stream",
          "text": [
            "The identity matrix of a G is [[1. 0.]\n",
            " [0. 1.]], because it has 2 rows, playa.\n"
          ],
          "name": "stdout"
        },
        {
          "output_type": "execute_result",
          "data": {
            "text/plain": [
              "array([[12.,  0.],\n",
              "       [ 0., 10.]])"
            ]
          },
          "metadata": {
            "tags": []
          },
          "execution_count": 30
        }
      ]
    },
    {
      "cell_type": "markdown",
      "metadata": {
        "id": "DZ_0XTDQqpMT",
        "colab_type": "text"
      },
      "source": [
        "## 3.2 Find $|H|$ and then find $|J|$.\n",
        "\n",
        "\\begin{align}\n",
        "H= \n",
        "\\begin{bmatrix}\n",
        "12 & 11 \\\\\n",
        "7 & 10 \n",
        "\\end{bmatrix}\n",
        "\\qquad\n",
        "J= \n",
        "\\begin{bmatrix}\n",
        "0 & 1 & 2 \\\\\n",
        "7 & 10 & 4 \\\\\n",
        "3 & 2 & 0\n",
        "\\end{bmatrix}\n",
        "\\end{align}\n"
      ]
    },
    {
      "cell_type": "code",
      "metadata": {
        "id": "5QShhoXyrjDS",
        "colab_type": "code",
        "outputId": "7c1db481-5404-4c83-dac3-3275fb664f8a",
        "colab": {
          "base_uri": "https://localhost:8080/",
          "height": 50
        }
      },
      "source": [
        "H = G\n",
        "J = np.array([[0,1,2],[7,10,4],[3,2,0]])\n",
        "print(np.linalg.det(H))\n",
        "print(np.linalg.det(J))"
      ],
      "execution_count": 31,
      "outputs": [
        {
          "output_type": "stream",
          "text": [
            "43.000000000000014\n",
            "-19.999999999999996\n"
          ],
          "name": "stdout"
        }
      ]
    },
    {
      "cell_type": "markdown",
      "metadata": {
        "id": "2gZl1CFwrXSH",
        "colab_type": "text"
      },
      "source": [
        "## 3.3 Find H^{-1} and then find J^{-1}"
      ]
    },
    {
      "cell_type": "markdown",
      "metadata": {
        "id": "QvLrXndcL-mZ",
        "colab_type": "text"
      },
      "source": [
        " \\begin{align}\n",
        "A = \\begin{bmatrix}\n",
        "a & b \\\\\n",
        "c & d\n",
        "\\end{bmatrix}\n",
        "\\qquad\n",
        "A^{-1} = \\frac{1}{ad-bc}\\begin{bmatrix}\n",
        "d & -b\\\\\n",
        "-c & a\n",
        "\\end{bmatrix}\n",
        "\\end{align}"
      ]
    },
    {
      "cell_type": "code",
      "metadata": {
        "id": "fJJUK5esMCJX",
        "colab_type": "code",
        "outputId": "80cbf474-e0d8-4731-cd5c-e9ed0408a397",
        "colab": {
          "base_uri": "https://localhost:8080/",
          "height": 34
        }
      },
      "source": [
        "1/(12*10 - 11*7)"
      ],
      "execution_count": 32,
      "outputs": [
        {
          "output_type": "execute_result",
          "data": {
            "text/plain": [
              "0.023255813953488372"
            ]
          },
          "metadata": {
            "tags": []
          },
          "execution_count": 32
        }
      ]
    },
    {
      "cell_type": "code",
      "metadata": {
        "id": "KVBsTDQlKL9v",
        "colab_type": "code",
        "outputId": "49e46fe8-a71b-42c1-b5cf-89b47e32f373",
        "colab": {
          "base_uri": "https://localhost:8080/",
          "height": 50
        }
      },
      "source": [
        "H_identity = np.identity(2)\n",
        "H_identity"
      ],
      "execution_count": 33,
      "outputs": [
        {
          "output_type": "execute_result",
          "data": {
            "text/plain": [
              "array([[1., 0.],\n",
              "       [0., 1.]])"
            ]
          },
          "metadata": {
            "tags": []
          },
          "execution_count": 33
        }
      ]
    },
    {
      "cell_type": "code",
      "metadata": {
        "id": "nyX6De2-rio1",
        "colab_type": "code",
        "outputId": "79301560-d125-4208-f1a7-46082488286b",
        "colab": {
          "base_uri": "https://localhost:8080/",
          "height": 50
        }
      },
      "source": [
        "Hinv = np.linalg.inv(H)\n",
        "Hinv\n"
      ],
      "execution_count": 34,
      "outputs": [
        {
          "output_type": "execute_result",
          "data": {
            "text/plain": [
              "array([[ 0.23255814, -0.25581395],\n",
              "       [-0.1627907 ,  0.27906977]])"
            ]
          },
          "metadata": {
            "tags": []
          },
          "execution_count": 34
        }
      ]
    },
    {
      "cell_type": "code",
      "metadata": {
        "id": "IJwcLUIMKfUT",
        "colab_type": "code",
        "outputId": "daf2d572-16fd-4579-bc00-1f0ec4e1edf4",
        "colab": {
          "base_uri": "https://localhost:8080/",
          "height": 50
        }
      },
      "source": [
        "np.dot(Hinv,H)########question shouldnt this return 1? Rounding errors?\n"
      ],
      "execution_count": 35,
      "outputs": [
        {
          "output_type": "execute_result",
          "data": {
            "text/plain": [
              "array([[1.00000000e+00, 6.66133815e-16],\n",
              "       [1.11022302e-16, 1.00000000e+00]])"
            ]
          },
          "metadata": {
            "tags": []
          },
          "execution_count": 35
        }
      ]
    },
    {
      "cell_type": "code",
      "metadata": {
        "id": "19visd5-pJmj",
        "colab_type": "code",
        "outputId": "cc800c57-e1a4-48b9-ce29-664d2f0bf81d",
        "colab": {
          "base_uri": "https://localhost:8080/",
          "height": 67
        }
      },
      "source": [
        "Jinv = np.linalg.inv(J)\n",
        "Jinv"
      ],
      "execution_count": 36,
      "outputs": [
        {
          "output_type": "execute_result",
          "data": {
            "text/plain": [
              "array([[ 0.4 , -0.2 ,  0.8 ],\n",
              "       [-0.6 ,  0.3 , -0.7 ],\n",
              "       [ 0.8 , -0.15,  0.35]])"
            ]
          },
          "metadata": {
            "tags": []
          },
          "execution_count": 36
        }
      ]
    },
    {
      "cell_type": "markdown",
      "metadata": {
        "id": "Vvd4Pe86rjhW",
        "colab_type": "text"
      },
      "source": [
        "## 3.4 Find $HH^{-1}$ and then find $G^{-1}G$. Is $HH^{-1} == G^{-1}G$? Why or Why not?"
      ]
    },
    {
      "cell_type": "code",
      "metadata": {
        "id": "d6L80o6iriaU",
        "colab_type": "code",
        "colab": {}
      },
      "source": [
        "Ginv = np.linalg.inv(G)"
      ],
      "execution_count": 0,
      "outputs": []
    },
    {
      "cell_type": "code",
      "metadata": {
        "id": "5ynYVL7DqYTq",
        "colab_type": "code",
        "outputId": "3dc5c7de-92ce-4465-bc13-7dd656c015d2",
        "colab": {
          "base_uri": "https://localhost:8080/",
          "height": 50
        }
      },
      "source": [
        "np.dot(Hinv,H)"
      ],
      "execution_count": 38,
      "outputs": [
        {
          "output_type": "execute_result",
          "data": {
            "text/plain": [
              "array([[1.00000000e+00, 6.66133815e-16],\n",
              "       [1.11022302e-16, 1.00000000e+00]])"
            ]
          },
          "metadata": {
            "tags": []
          },
          "execution_count": 38
        }
      ]
    },
    {
      "cell_type": "code",
      "metadata": {
        "id": "G324D4SUqcnm",
        "colab_type": "code",
        "outputId": "f84ab7f4-cac5-49d4-fad0-50096f4d1f6b",
        "colab": {
          "base_uri": "https://localhost:8080/",
          "height": 50
        }
      },
      "source": [
        "np.dot(G,Ginv)"
      ],
      "execution_count": 39,
      "outputs": [
        {
          "output_type": "execute_result",
          "data": {
            "text/plain": [
              "array([[1.00000000e+00, 5.55111512e-16],\n",
              "       [2.22044605e-16, 1.00000000e+00]])"
            ]
          },
          "metadata": {
            "tags": []
          },
          "execution_count": 39
        }
      ]
    },
    {
      "cell_type": "markdown",
      "metadata": {
        "id": "tAxqpXzLqjJF",
        "colab_type": "text"
      },
      "source": [
        "The cross product does not follow the commutative property because the direction of the unit vector becomes opposite when the vector product occurs in a reverse manner. Hence, both the cross products of both the vectors in both the possible ways.\n"
      ]
    },
    {
      "cell_type": "code",
      "metadata": {
        "id": "aAmDKng-qh4B",
        "colab_type": "code",
        "colab": {}
      },
      "source": [
        ""
      ],
      "execution_count": 0,
      "outputs": []
    },
    {
      "cell_type": "markdown",
      "metadata": {
        "id": "V0iTO4McYjtk",
        "colab_type": "text"
      },
      "source": [
        "# Stretch Goals: \n",
        "\n",
        "A reminder that these challenges are optional. If you finish your work quickly we welcome you to work on them. If there are other activities that you feel like will help your understanding of the above topics more, feel free to work on that. Topics from the Stretch Goals sections will never end up on Sprint Challenges. You don't have to do these in order, you don't have to do all of them. \n",
        "\n",
        "- Write a function that can calculate the dot product of any two vectors of equal length that are passed to it.\n",
        "- Write a function that can calculate the norm of any vector\n",
        "- Prove to yourself again that the vectors in 1.9 are orthogonal by graphing them. \n",
        "- Research how to plot a 3d graph with animations so that you can make the graph rotate (this will be easier in a local notebook than in google colab)\n",
        "- Create and plot a matrix on a 2d graph.\n",
        "- Create and plot a matrix on a 3d graph.\n",
        "- Plot two vectors that are not collinear on a 2d graph. Calculate the determinant of the 2x2 matrix that these vectors form. How does this determinant relate to the graphical interpretation of the vectors?\n",
        "\n"
      ]
    },
    {
      "cell_type": "code",
      "metadata": {
        "id": "5F_bXU9VnjZf",
        "colab_type": "code",
        "colab": {}
      },
      "source": [
        ""
      ],
      "execution_count": 0,
      "outputs": []
    },
    {
      "cell_type": "code",
      "metadata": {
        "id": "COFPUXe10Z9n",
        "colab_type": "code",
        "outputId": "d58826a0-2bbc-499f-d97e-b01a929aa5e9",
        "colab": {
          "base_uri": "https://localhost:8080/",
          "height": 84
        }
      },
      "source": [
        "def twodlinear_transform(a, b, c, d, e, f):\n",
        "    #a&b are x values and c&d are y values\n",
        "    #as vectors\n",
        "    \n",
        "    x = ((a * e) + (b * f))\n",
        "    y = ((c * e) + (d * f))\n",
        "    \n",
        "    return x,y\n",
        "\n",
        "def twodeterminate_linAl(a,b,c,d):\n",
        "    #computes the determinate from a 2d matrix\n",
        "    \n",
        "    D = (a*d) - (b*c) \n",
        "    if D > 0: \n",
        "        print(\"The orientation has inversed\")\n",
        "    \n",
        "    if D == 0: \n",
        "        print(\"There is no area\")\n",
        "    \n",
        "    return abs(D)\n",
        "\n",
        "def dot_product_matrix(x,y,z,a,b,c):\n",
        "    #takes two 3d vectors and returns \n",
        "    #the dot product or x*x, y*y\n",
        "    horizon = x * a\n",
        "    vertical = y * b\n",
        "    depth = z * c\n",
        "    \n",
        "    return (horizon, vertical, depth)\n",
        "\n",
        "print(twodlinear_transform(1,2,3,4,5,6))\n",
        "print(twodeterminate_linAl(1,2,-3,-4))\n",
        "print(dot_product_matrix(1,2,3,4,5,6))"
      ],
      "execution_count": 40,
      "outputs": [
        {
          "output_type": "stream",
          "text": [
            "(17, 39)\n",
            "The orientation has inversed\n",
            "2\n",
            "(4, 10, 18)\n"
          ],
          "name": "stdout"
        }
      ]
    },
    {
      "cell_type": "markdown",
      "metadata": {
        "id": "YBhX0btM08O6",
        "colab_type": "text"
      },
      "source": [
        "\"\"\"\n",
        "Created on Thu Mar 28 02:09:24 2019\n",
        "Linear algebra transformations\n",
        "Matrix Vector Multiplication \n",
        "if you have 2 vectors (a,c) and (b,d)\n",
        "with vector (x,y) the transformation is\n",
        "ax + by and cx + dy = Vector transformation and describes \n",
        "any new points coordinates after the space has been transformed\n",
        "@author: darektidwell"
      ]
    }
  ]
}